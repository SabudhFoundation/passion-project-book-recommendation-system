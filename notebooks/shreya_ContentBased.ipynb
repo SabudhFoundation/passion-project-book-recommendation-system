{
 "cells": [
  {
   "cell_type": "code",
   "execution_count": 11,
   "id": "f42cada8-ef97-4556-ac08-9709f1cea2b1",
   "metadata": {},
   "outputs": [],
   "source": [
    "import pandas as pd\n",
    "import numpy as np"
   ]
  },
  {
   "cell_type": "code",
   "execution_count": null,
   "id": "40b5dd21-d6d6-4a32-8593-641e5823b30f",
   "metadata": {},
   "outputs": [],
   "source": [
    "df = pd.read_csv(\"C:\\Users\\shrey\\Downloads\\SabudhProject\\shreya.csv\")\n",
    "df.head()\n",
    "df.info()"
   ]
  },
  {
   "cell_type": "code",
   "execution_count": 13,
   "id": "976a1c11-fd5c-455c-9cb2-fa1df1adc033",
   "metadata": {},
   "outputs": [
    {
     "data": {
      "text/plain": [
       "Unnamed: 0                  0\n",
       "isbn                        0\n",
       "text_reviews_count          0\n",
       "series                      0\n",
       "country_code                0\n",
       "language_code               0\n",
       "popular_shelves             0\n",
       "is_ebook                    0\n",
       "average_rating              0\n",
       "similar_books               0\n",
       "description                 0\n",
       "format                  10515\n",
       "link                        0\n",
       "authors                     0\n",
       "publisher                   0\n",
       "num_pages                   0\n",
       "publication_day         23664\n",
       "isbn13                   4123\n",
       "publication_month           0\n",
       "publication_year            0\n",
       "url                         0\n",
       "image_url                   0\n",
       "book_id                     0\n",
       "ratings_count               0\n",
       "work_id                     0\n",
       "title                       1\n",
       "title_without_series        1\n",
       "dtype: int64"
      ]
     },
     "execution_count": 13,
     "metadata": {},
     "output_type": "execute_result"
    }
   ],
   "source": [
    "df.isna().sum()"
   ]
  },
  {
   "cell_type": "code",
   "execution_count": 14,
   "id": "fe74a2e0-3386-4e0e-98b5-bae1c3d95ab1",
   "metadata": {},
   "outputs": [],
   "source": [
    "df.drop_duplicates(subset='isbn', keep='first', inplace=True)\n",
    "df.drop_duplicates(subset='title', keep='first', inplace=True)"
   ]
  },
  {
   "cell_type": "code",
   "execution_count": 15,
   "id": "6093185f-45a0-4c5b-825c-f299dd6febac",
   "metadata": {},
   "outputs": [
    {
     "data": {
      "text/plain": [
       "0    \n",
       "False    113648\n",
       "Name: count, dtype: int64"
      ]
     },
     "execution_count": 15,
     "metadata": {},
     "output_type": "execute_result"
    }
   ],
   "source": [
    "data = df['title'].value_counts() > 1\n",
    "df2 = pd.DataFrame(list(data.values))\n",
    "df2.value_counts()"
   ]
  },
  {
   "cell_type": "code",
   "execution_count": 16,
   "id": "a605d35f-43d7-4caf-8e2d-b2e480796c08",
   "metadata": {},
   "outputs": [
    {
     "data": {
      "text/plain": [
       "(113649, 27)"
      ]
     },
     "execution_count": 16,
     "metadata": {},
     "output_type": "execute_result"
    }
   ],
   "source": [
    "df.shape"
   ]
  },
  {
   "cell_type": "code",
   "execution_count": 17,
   "id": "7c502ac9-c816-457e-ba24-ca39fb9bdc4e",
   "metadata": {},
   "outputs": [
    {
     "name": "stdout",
     "output_type": "stream",
     "text": [
      "   user_id        isbn                                              title  \\\n",
      "0        1  0578169185                                         Every Love   \n",
      "1        1  0451233441  The Unbearable Lightness of Dragons (Light Dra...   \n",
      "2        1  6066860178                           Scenariu pentru dragoste   \n",
      "3        1  1507885806            Yummy Addictions (The Yummy Trilogy #1)   \n",
      "4        1  1503953491                             Mi segunda primera vez   \n",
      "\n",
      "   average_rating                                        description  \n",
      "0            4.13  Post - Living in the after, the events that to...  \n",
      "1            4.08  Ysolde Bouchier is still coming to terms with ...  \n",
      "2            3.98  A woman dares to defy society.\\nA man resists ...  \n",
      "3            3.79  Valentina \"Vale\" Zamora is a twenty-eight-year...  \n",
      "4            3.80  Finalist for the 2013 RITA(R) Award for Best F...  \n"
     ]
    }
   ],
   "source": [
    "import random\n",
    "#Creating a synthetic user dataset\n",
    "num_users = 3000\n",
    "\n",
    "user_book_list = []\n",
    "\n",
    "for user in range(1, num_users + 1):\n",
    "    num_books = random.randint(30, 35)\n",
    "    sampled_books = df.sample(num_books)\n",
    "    for _, row in sampled_books.iterrows():\n",
    "        user_book_list.append({\n",
    "            \"user_id\": user,\n",
    "            \"isbn\": row[\"isbn\"],\n",
    "            \"title\": row[\"title_without_series\"],\n",
    "            \"average_rating\": row['average_rating'],\n",
    "            \"description\": row['description']\n",
    "        })\n",
    "user_book_df = pd.DataFrame(user_book_list)\n",
    "\n",
    "print(user_book_df.head())\n"
   ]
  },
  {
   "cell_type": "code",
   "execution_count": 18,
   "id": "0077c8a5-1951-47d8-80ef-c9d95f7dbde5",
   "metadata": {},
   "outputs": [
    {
     "data": {
      "text/html": [
       "<div>\n",
       "<style scoped>\n",
       "    .dataframe tbody tr th:only-of-type {\n",
       "        vertical-align: middle;\n",
       "    }\n",
       "\n",
       "    .dataframe tbody tr th {\n",
       "        vertical-align: top;\n",
       "    }\n",
       "\n",
       "    .dataframe thead th {\n",
       "        text-align: right;\n",
       "    }\n",
       "</style>\n",
       "<table border=\"1\" class=\"dataframe\">\n",
       "  <thead>\n",
       "    <tr style=\"text-align: right;\">\n",
       "      <th></th>\n",
       "      <th>user_id</th>\n",
       "      <th>isbn</th>\n",
       "      <th>title</th>\n",
       "      <th>average_rating</th>\n",
       "      <th>description</th>\n",
       "    </tr>\n",
       "  </thead>\n",
       "  <tbody>\n",
       "    <tr>\n",
       "      <th>0</th>\n",
       "      <td>1</td>\n",
       "      <td>0578169185</td>\n",
       "      <td>Every Love</td>\n",
       "      <td>4.13</td>\n",
       "      <td>Post - Living in the after, the events that to...</td>\n",
       "    </tr>\n",
       "    <tr>\n",
       "      <th>1</th>\n",
       "      <td>1</td>\n",
       "      <td>0451233441</td>\n",
       "      <td>The Unbearable Lightness of Dragons (Light Dra...</td>\n",
       "      <td>4.08</td>\n",
       "      <td>Ysolde Bouchier is still coming to terms with ...</td>\n",
       "    </tr>\n",
       "    <tr>\n",
       "      <th>2</th>\n",
       "      <td>1</td>\n",
       "      <td>6066860178</td>\n",
       "      <td>Scenariu pentru dragoste</td>\n",
       "      <td>3.98</td>\n",
       "      <td>A woman dares to defy society.\\nA man resists ...</td>\n",
       "    </tr>\n",
       "    <tr>\n",
       "      <th>3</th>\n",
       "      <td>1</td>\n",
       "      <td>1507885806</td>\n",
       "      <td>Yummy Addictions (The Yummy Trilogy #1)</td>\n",
       "      <td>3.79</td>\n",
       "      <td>Valentina \"Vale\" Zamora is a twenty-eight-year...</td>\n",
       "    </tr>\n",
       "    <tr>\n",
       "      <th>4</th>\n",
       "      <td>1</td>\n",
       "      <td>1503953491</td>\n",
       "      <td>Mi segunda primera vez</td>\n",
       "      <td>3.80</td>\n",
       "      <td>Finalist for the 2013 RITA(R) Award for Best F...</td>\n",
       "    </tr>\n",
       "    <tr>\n",
       "      <th>...</th>\n",
       "      <td>...</td>\n",
       "      <td>...</td>\n",
       "      <td>...</td>\n",
       "      <td>...</td>\n",
       "      <td>...</td>\n",
       "    </tr>\n",
       "    <tr>\n",
       "      <th>97409</th>\n",
       "      <td>3000</td>\n",
       "      <td>0751539562</td>\n",
       "      <td>The Summer Of Secrets</td>\n",
       "      <td>3.87</td>\n",
       "      <td>Hope Gardener has always been a drifter. A car...</td>\n",
       "    </tr>\n",
       "    <tr>\n",
       "      <th>97410</th>\n",
       "      <td>3000</td>\n",
       "      <td>0374281351</td>\n",
       "      <td>Night Wraps the Sky: Writings by and about May...</td>\n",
       "      <td>4.22</td>\n",
       "      <td>From the time his first, futurist poems were p...</td>\n",
       "    </tr>\n",
       "    <tr>\n",
       "      <th>97411</th>\n",
       "      <td>3000</td>\n",
       "      <td>147500382x</td>\n",
       "      <td>Leopard Moon (Moon, #1)</td>\n",
       "      <td>3.77</td>\n",
       "      <td>How do you disappear when you come from a fami...</td>\n",
       "    </tr>\n",
       "    <tr>\n",
       "      <th>97412</th>\n",
       "      <td>3000</td>\n",
       "      <td>9944825672</td>\n",
       "      <td>Kalpsiz (The House of Rohan, #1)</td>\n",
       "      <td>3.81</td>\n",
       "      <td>Passion Always Wins\\nVery few people can witne...</td>\n",
       "    </tr>\n",
       "    <tr>\n",
       "      <th>97413</th>\n",
       "      <td>3000</td>\n",
       "      <td>037344253X</td>\n",
       "      <td>Murder By Mushroom</td>\n",
       "      <td>3.90</td>\n",
       "      <td>Serving up murderous munchies at a church potl...</td>\n",
       "    </tr>\n",
       "  </tbody>\n",
       "</table>\n",
       "<p>97414 rows × 5 columns</p>\n",
       "</div>"
      ],
      "text/plain": [
       "       user_id        isbn                                              title  \\\n",
       "0            1  0578169185                                         Every Love   \n",
       "1            1  0451233441  The Unbearable Lightness of Dragons (Light Dra...   \n",
       "2            1  6066860178                           Scenariu pentru dragoste   \n",
       "3            1  1507885806            Yummy Addictions (The Yummy Trilogy #1)   \n",
       "4            1  1503953491                             Mi segunda primera vez   \n",
       "...        ...         ...                                                ...   \n",
       "97409     3000  0751539562                              The Summer Of Secrets   \n",
       "97410     3000  0374281351  Night Wraps the Sky: Writings by and about May...   \n",
       "97411     3000  147500382x                            Leopard Moon (Moon, #1)   \n",
       "97412     3000  9944825672                   Kalpsiz (The House of Rohan, #1)   \n",
       "97413     3000  037344253X                                 Murder By Mushroom   \n",
       "\n",
       "       average_rating                                        description  \n",
       "0                4.13  Post - Living in the after, the events that to...  \n",
       "1                4.08  Ysolde Bouchier is still coming to terms with ...  \n",
       "2                3.98  A woman dares to defy society.\\nA man resists ...  \n",
       "3                3.79  Valentina \"Vale\" Zamora is a twenty-eight-year...  \n",
       "4                3.80  Finalist for the 2013 RITA(R) Award for Best F...  \n",
       "...               ...                                                ...  \n",
       "97409            3.87  Hope Gardener has always been a drifter. A car...  \n",
       "97410            4.22  From the time his first, futurist poems were p...  \n",
       "97411            3.77  How do you disappear when you come from a fami...  \n",
       "97412            3.81  Passion Always Wins\\nVery few people can witne...  \n",
       "97413            3.90  Serving up murderous munchies at a church potl...  \n",
       "\n",
       "[97414 rows x 5 columns]"
      ]
     },
     "execution_count": 18,
     "metadata": {},
     "output_type": "execute_result"
    }
   ],
   "source": [
    "user_book_df"
   ]
  },
  {
   "cell_type": "code",
   "execution_count": 14,
   "id": "20310318-7379-41ba-9569-896a522add98",
   "metadata": {},
   "outputs": [],
   "source": [
    "user_book_df.to_csv('user_book_dataset2.csv')"
   ]
  },
  {
   "cell_type": "code",
   "execution_count": 40,
   "id": "64c452ec-4cba-4fb8-ad33-a3b20ec33c25",
   "metadata": {},
   "outputs": [],
   "source": [
    "import random\n",
    "# shuffle user ID's\n",
    "users = [x for x in range(1, num_users + 1)]\n",
    "random.shuffle(users)\n",
    "\n",
    "# extract 90% of customer ID's\n",
    "users_train = [users[i] for i in range(round(0.9*len(users)))]\n",
    "users_val = [users[i] for i in range(len(users)) if users[i] not in users_train]\n",
    "\n",
    "# split data into train and validation set\n",
    "train_df = user_book_df[user_book_df['user_id'].isin(users_train)]\n",
    "validation_df = user_book_df[~user_book_df['user_id'].isin(users_train)]"
   ]
  },
  {
   "cell_type": "code",
   "execution_count": 21,
   "id": "0f91b183-94a8-46d6-ae9c-2d0c27f0d339",
   "metadata": {},
   "outputs": [],
   "source": [
    "from tqdm import tqdm\n",
    "from gensim.models import Word2Vec \n",
    "import matplotlib.pyplot as plt\n",
    "import warnings;\n",
    "warnings.filterwarnings('ignore')"
   ]
  },
  {
   "cell_type": "code",
   "execution_count": 41,
   "id": "ea497e27-558e-4d05-83a1-5fb4fcb9d1e1",
   "metadata": {},
   "outputs": [],
   "source": [
    "# list to capture book history of the users\n",
    "books_train = []\n",
    "\n",
    "for user in users_train:\n",
    "    temp = train_df[train_df[\"user_id\"] == user][\"description\"].tolist()\n",
    "    books_train.append(temp)"
   ]
  },
  {
   "cell_type": "code",
   "execution_count": 43,
   "id": "1bad4550-a470-43bd-8a10-9542a84409d5",
   "metadata": {},
   "outputs": [],
   "source": [
    "# list to capture book history of the users(validation set)\n",
    "books_val = []\n",
    "\n",
    "# populate the list with the product codes\n",
    "for user in users_val:\n",
    "    temp = validation_df[validation_df[\"user_id\"] == user][\"description\"].tolist()\n",
    "    books_val.append(temp)"
   ]
  },
  {
   "cell_type": "code",
   "execution_count": 44,
   "id": "56eb8aa3-cb8e-4f62-afdc-77d510ee9cbd",
   "metadata": {},
   "outputs": [],
   "source": [
    "# train word2vec model\n",
    "model = Word2Vec(sentences=books_train, window=5, sg=1, min_count=1, workers=4)"
   ]
  },
  {
   "cell_type": "code",
   "execution_count": 45,
   "id": "b65fffca-a5d2-4208-a9b6-1ca9482ca2a0",
   "metadata": {},
   "outputs": [],
   "source": [
    "def recommend_items(item_id, top_n=5):\n",
    "    if item_id in model.wv:\n",
    "        return model.wv.most_similar(item_id, topn=top_n)\n",
    "    else:\n",
    "        return []\n",
    "        \n",
    "def user_embedding(user_items):\n",
    "    vectors = [model.wv[item] for item in user_items if item in model.wv]\n",
    "    return np.mean(vectors, axis=0) if vectors else None\n",
    "\n",
    "def recommend_for_user(user_items, top_n=5):\n",
    "    user_vec = user_embedding(user_items)\n",
    "    if user_vec is None:\n",
    "        return []\n",
    "    return model.wv.similar_by_vector(user_vec, topn=top_n)"
   ]
  },
  {
   "cell_type": "code",
   "execution_count": 46,
   "id": "b5386d8b-2e8a-4887-8a11-70ef2f86aca4",
   "metadata": {},
   "outputs": [],
   "source": [
    "import re\n",
    "\n",
    "def preprocess_text(sen):\n",
    "    # Remove punctuations and numbers\n",
    "    sentence = re.sub('[^a-zA-Z]', ' ', sen)\n",
    "\n",
    "    # Single character removal\n",
    "    sentence = re.sub(r\"\\s+[a-zA-Z]\\s+\", ' ', sentence)\n",
    "\n",
    "    # Removing multiple spaces\n",
    "    sentence = re.sub(r'\\s+', ' ', sentence)\n",
    "\n",
    "    idx = sentence.find('title dtype object')\n",
    "    sentence = sentence[:idx]\n",
    "    sentence.strip()\n",
    "\n",
    "    return sentence\n",
    "\n",
    "recommendations = []\n",
    "for i in range(len(valis)):\n",
    "    book_history = books_val[i]\n",
    "    user_id = valis[i]\n",
    "    rec = recommend_for_user(book_history, 50)\n",
    "\n",
    "    j = 0\n",
    "    titles = []\n",
    "    while len(titles) < 5 and j < 50:\n",
    "        title = df[df['description'] == rec[j][0]]['title'].astype(str)\n",
    "        title = preprocess_text(str(title))\n",
    "        if title not in titles:\n",
    "            titles.append(title)\n",
    "        j +=1  \n",
    "        \n",
    "    recommendations.append({\n",
    "        \"user_id\": user_id,\n",
    "        \"titles\": titles\n",
    "    })\n",
    "\n",
    "val_rec_df = pd.DataFrame(recommendations)"
   ]
  },
  {
   "cell_type": "code",
   "execution_count": 57,
   "id": "d1dacad5-c44a-480a-b198-8a56f5eb983a",
   "metadata": {},
   "outputs": [
    {
     "data": {
      "text/plain": [
       "[' Must Love Breeches Name ',\n",
       " ' The Prodigal Daughter Name ',\n",
       " ' Have Touched You Name ',\n",
       " ' In the Arms of Marquess Rogues of the Sea Name ',\n",
       " ' The Argonautika The Story of Jason and the Qu Name ']"
      ]
     },
     "execution_count": 57,
     "metadata": {},
     "output_type": "execute_result"
    }
   ],
   "source": [
    "val_rec_df.loc[0]['titles']"
   ]
  },
  {
   "cell_type": "code",
   "execution_count": 58,
   "id": "d1ce1678-b13c-4263-836e-340be9abb85a",
   "metadata": {},
   "outputs": [
    {
     "data": {
      "text/html": [
       "<div>\n",
       "<style scoped>\n",
       "    .dataframe tbody tr th:only-of-type {\n",
       "        vertical-align: middle;\n",
       "    }\n",
       "\n",
       "    .dataframe tbody tr th {\n",
       "        vertical-align: top;\n",
       "    }\n",
       "\n",
       "    .dataframe thead th {\n",
       "        text-align: right;\n",
       "    }\n",
       "</style>\n",
       "<table border=\"1\" class=\"dataframe\">\n",
       "  <thead>\n",
       "    <tr style=\"text-align: right;\">\n",
       "      <th></th>\n",
       "      <th>user_id</th>\n",
       "      <th>titles</th>\n",
       "    </tr>\n",
       "  </thead>\n",
       "  <tbody>\n",
       "    <tr>\n",
       "      <th>0</th>\n",
       "      <td>1330</td>\n",
       "      <td>[ Must Love Breeches Name ,  The Prodigal Daug...</td>\n",
       "    </tr>\n",
       "    <tr>\n",
       "      <th>1</th>\n",
       "      <td>507</td>\n",
       "      <td>[ Dangerous as Sin Bligh Family Name ,  The Ma...</td>\n",
       "    </tr>\n",
       "    <tr>\n",
       "      <th>2</th>\n",
       "      <td>876</td>\n",
       "      <td>[ Another Mother Life Name ,  Rake with Frozen...</td>\n",
       "    </tr>\n",
       "    <tr>\n",
       "      <th>3</th>\n",
       "      <td>1377</td>\n",
       "      <td>[ In Love with the Bronc Rider Name ,  r Lydia...</td>\n",
       "    </tr>\n",
       "    <tr>\n",
       "      <th>4</th>\n",
       "      <td>543</td>\n",
       "      <td>[ Damaso Claims His Heir Name ,  The Storm Tha...</td>\n",
       "    </tr>\n",
       "    <tr>\n",
       "      <th>...</th>\n",
       "      <td>...</td>\n",
       "      <td>...</td>\n",
       "    </tr>\n",
       "    <tr>\n",
       "      <th>295</th>\n",
       "      <td>1255</td>\n",
       "      <td>[ Kept The Enforcers Name ,  The Partition of ...</td>\n",
       "    </tr>\n",
       "    <tr>\n",
       "      <th>296</th>\n",
       "      <td>520</td>\n",
       "      <td>[ Magia proibita Name ,  Les Destinees Name , ...</td>\n",
       "    </tr>\n",
       "    <tr>\n",
       "      <th>297</th>\n",
       "      <td>2141</td>\n",
       "      <td>[ The Rhythm of Your Heartbeat Name ,  Star Ra...</td>\n",
       "    </tr>\n",
       "    <tr>\n",
       "      <th>298</th>\n",
       "      <td>2007</td>\n",
       "      <td>[ Never Courted Suddenly Wed Scandalous Season...</td>\n",
       "    </tr>\n",
       "    <tr>\n",
       "      <th>299</th>\n",
       "      <td>1427</td>\n",
       "      <td>[ Ruined How to Ruin Name ,  Deadly Dance Tac ...</td>\n",
       "    </tr>\n",
       "  </tbody>\n",
       "</table>\n",
       "<p>300 rows × 2 columns</p>\n",
       "</div>"
      ],
      "text/plain": [
       "     user_id                                             titles\n",
       "0       1330  [ Must Love Breeches Name ,  The Prodigal Daug...\n",
       "1        507  [ Dangerous as Sin Bligh Family Name ,  The Ma...\n",
       "2        876  [ Another Mother Life Name ,  Rake with Frozen...\n",
       "3       1377  [ In Love with the Bronc Rider Name ,  r Lydia...\n",
       "4        543  [ Damaso Claims His Heir Name ,  The Storm Tha...\n",
       "..       ...                                                ...\n",
       "295     1255  [ Kept The Enforcers Name ,  The Partition of ...\n",
       "296      520  [ Magia proibita Name ,  Les Destinees Name , ...\n",
       "297     2141  [ The Rhythm of Your Heartbeat Name ,  Star Ra...\n",
       "298     2007  [ Never Courted Suddenly Wed Scandalous Season...\n",
       "299     1427  [ Ruined How to Ruin Name ,  Deadly Dance Tac ...\n",
       "\n",
       "[300 rows x 2 columns]"
      ]
     },
     "execution_count": 58,
     "metadata": {},
     "output_type": "execute_result"
    }
   ],
   "source": [
    "val_rec_df"
   ]
  },
  {
   "cell_type": "code",
   "execution_count": null,
   "id": "b816b456-4a45-4ba7-b919-96efb1987b13",
   "metadata": {},
   "outputs": [],
   "source": []
  }
 ],
 "metadata": {
  "kernelspec": {
   "display_name": "Python 3 (ipykernel)",
   "language": "python",
   "name": "python3"
  },
  "language_info": {
   "codemirror_mode": {
    "name": "ipython",
    "version": 3
   },
   "file_extension": ".py",
   "mimetype": "text/x-python",
   "name": "python",
   "nbconvert_exporter": "python",
   "pygments_lexer": "ipython3",
   "version": "3.11.4"
  }
 },
 "nbformat": 4,
 "nbformat_minor": 5
}
